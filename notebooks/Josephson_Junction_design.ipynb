{
 "cells": [
  {
   "cell_type": "code",
   "execution_count": 1,
   "metadata": {},
   "outputs": [],
   "source": [
    "import numpy as np\n",
    "import scipy.constants as const\n",
    "import scipy.special as special\n"
   ]
  },
  {
   "cell_type": "markdown",
   "metadata": {},
   "source": [
    "The Ambegaokar-Baratoff (AB) formula can also be used to estimate the critical current of a Josephson Junction made of Al/AlOx/Al using the following equation:\n",
    "\n",
    "Ic = (π * Δ / 2 * e * Rn) * tanh(Δ / 2kT)\n",
    "\n",
    "Where:\n",
    "\n",
    "- Ic is the critical current\n",
    "- Δ is the superconducting energy gap of aluminum\n",
    "- e is the electronic charge\n",
    "- Rn is the normal resistance of the junction at room temperature\n",
    "- T is the temperature\n",
    "- k is the Boltzmann constant\n",
    "\n",
    "It is important to note that the AB formula assumes a uniform and flat junction with a constant gap amplitude. This may not hold true in some cases, and other factors such as junction geometry and film quality may also affect the critical current. Therefore, experimental measurements and simulations are often necessary to verify the estimated critical current."
   ]
  },
  {
   "cell_type": "markdown",
   "metadata": {},
   "source": [
    "The superconducting energy gap of aluminum (Al) can be calculated using the BCS (Bardeen-Cooper-Schrieffer) theory. At low temperatures, the electrons in Al form Cooper pairs and these pairs exhibit a gap in the energy spectrum. The superconducting energy gap (Δ) of Al is given by:\n",
    "\n",
    "Δ = 1.764 * k * T_c\n",
    "\n",
    "where k is the Boltzmann constant, and T_c is the critical temperature of Al (1.2 K).\n",
    "\n",
    "Substituting the values, we get:\n",
    "\n",
    "Δ = 1.764 * 1.38 x 10^(-23) J/K * 1.2 K\n",
    "= 2.923 x 10^(-23) J\n",
    "\n",
    "Therefore, the superconducting energy gap of aluminum is approximately 4.10 x 10^(-23) Joules (J)."
   ]
  },
  {
   "cell_type": "code",
   "execution_count": 2,
   "metadata": {},
   "outputs": [],
   "source": [
    "Rn = 4e3 # Ohms\n",
    "\n",
    "# Define parameters\n",
    "Tc = 1.2                            # K         critical temperature of Al\n",
    "Delta = 1.764*const.Boltzmann*Tc    # Joules    superconducting energy gap of Al"
   ]
  },
  {
   "cell_type": "code",
   "execution_count": 3,
   "metadata": {},
   "outputs": [
    {
     "name": "stdout",
     "output_type": "stream",
     "text": [
      "Critical current (AB formula) = 0.07163291120172963 uA\n",
      "Josephson Energy / GHz = 35.578885822828916\n"
     ]
    }
   ],
   "source": [
    "# Calculate critical current (AB formula)\n",
    "T = 20e-3 # Kelvin\n",
    "Ic_AB = (np.pi * Delta / (2 * const.e * Rn)) * np.tanh(Delta / (2 * const.Boltzmann * T))\n",
    "print(\"Critical current (AB formula) =\", Ic_AB/1e-6, \"uA\")\n",
    "\n",
    "EJ = const.hbar*Ic_AB / (2*const.e)\n",
    "print(\"Josephson Energy / GHz =\", EJ / const.h / 1e9)"
   ]
  },
  {
   "cell_type": "markdown",
   "metadata": {},
   "source": [
    "solve the target resistance based on needed Josephson energy"
   ]
  },
  {
   "cell_type": "code",
   "execution_count": 4,
   "metadata": {},
   "outputs": [
    {
     "name": "stdout",
     "output_type": "stream",
     "text": [
      "JJ width:  0.13  Lj (nH) = 16.88075524402583 freq = 6.499088707600835\n",
      "JJ width:  0.14  Lj (nH) = 14.939646421653672 freq = 6.908412189026054\n",
      "Simu Lj1 (nH):  16.9424 Rn (kOhm):  14.750670168511737\n",
      "Simu Lj2 (nH):  21.7271 Rn (kOhm):  18.916404158694842\n"
     ]
    }
   ],
   "source": [
    "\n",
    "def Ic(T):\n",
    "    return Ic_AB * np.tanh(Delta / (2 * const.Boltzmann * T))\n",
    "\n",
    "T = 20e-3\n",
    "\n",
    "def Rn(EJ, T):\n",
    "    Ic = 2*const.e*EJ/const.hbar\n",
    "    Rn = np.pi * Delta / (2 * const.e) / Ic * np.tanh(Delta / (2 * const.Boltzmann * T))\n",
    "    return Rn\n",
    "\n",
    "def Ej(Rn, T):\n",
    "    Ic = np.pi * Delta / (2 * const.e) / Rn * np.tanh(Delta / (2 * const.Boltzmann * T))\n",
    "    return Ic * const.hbar / (2*const.e)\n",
    "\n",
    "def Rn(Ej, T):\n",
    "    Ic = 2*const.e*Ej/const.hbar\n",
    "    return np.pi * Delta / (2 * const.e) / Ic * np.tanh(Delta / (2 * const.Boltzmann * T))\n",
    "\n",
    "def Lj(Ej):\n",
    "    return (const.hbar/(2*const.e))**2/Ej/1e-9\n",
    "\n",
    "def Ej_from_Lj(Lj):\n",
    "    return (const.hbar/(2*const.e))**2/Lj/1e-9\n",
    "\n",
    "def Freq_from_LC(L):\n",
    "    return 50 / (const.pi * np.sqrt(L*0.355257668))\n",
    "\n",
    "\n",
    "EJ = 30e9 * const.h\n",
    "# print(\"Target EJ (GHz): \", EJ/const.h/1e9)\n",
    "# print(\"Target LJ (nH)\", (const.hbar/(2*const.e))**2/EJ/1e-9)\n",
    "# print(\"Rn =\", Rn(EJ, T))\n",
    "Lj1 = Lj(Ej(14.697e3, T))\n",
    "Lj2 = Lj(Ej(13.007e3, T))\n",
    "print(\"JJ width: \", 0.13, \" Lj (nH) =\" , Lj1, \"freq =\" , Freq_from_LC(Lj1))\n",
    "print(\"JJ width: \", 0.14, \" Lj (nH) =\" , Lj2, \"freq =\" , Freq_from_LC(Lj2))\n",
    "\n",
    "simu_lj1 = 16.9424\n",
    "simu_lj2 = 21.7271\n",
    "simu_rn1 = Rn(Ej_from_Lj(simu_lj1), T)\n",
    "simu_rn2 = Rn(Ej_from_Lj(simu_lj2), T)\n",
    "print(\"Simu Lj1 (nH): \", simu_lj1, \"Rn (kOhm): \", simu_rn1 / 1000)\n",
    "print(\"Simu Lj2 (nH): \", simu_lj2, \"Rn (kOhm): \", simu_rn2 / 1000)"
   ]
  }
 ],
 "metadata": {
  "kernelspec": {
   "display_name": "Python 3",
   "language": "python",
   "name": "python3"
  },
  "language_info": {
   "codemirror_mode": {
    "name": "ipython",
    "version": 3
   },
   "file_extension": ".py",
   "mimetype": "text/x-python",
   "name": "python",
   "nbconvert_exporter": "python",
   "pygments_lexer": "ipython3",
   "version": "3.undefined.undefined"
  }
 },
 "nbformat": 4,
 "nbformat_minor": 2
}
